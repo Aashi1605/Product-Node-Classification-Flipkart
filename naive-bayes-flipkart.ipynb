{
 "cells": [
  {
   "cell_type": "code",
   "execution_count": 1,
   "metadata": {
    "execution": {
     "iopub.execute_input": "2021-09-17T10:04:35.805104Z",
     "iopub.status.busy": "2021-09-17T10:04:35.804081Z",
     "iopub.status.idle": "2021-09-17T10:04:36.813772Z",
     "shell.execute_reply": "2021-09-17T10:04:36.812591Z",
     "shell.execute_reply.started": "2021-09-17T10:04:35.804950Z"
    }
   },
   "outputs": [],
   "source": [
    "import pandas as pd\n",
    "import numpy as np\n",
    "from sklearn.model_selection import train_test_split\n",
    "from sklearn.pipeline import Pipeline\n",
    "from sklearn.feature_extraction.text import TfidfVectorizer\n",
    "from sklearn.naive_bayes import MultinomialNB\n",
    "from sklearn.pipeline import make_pipeline"
   ]
  },
  {
   "cell_type": "code",
   "execution_count": 2,
   "metadata": {
    "execution": {
     "iopub.execute_input": "2021-09-17T10:09:19.733177Z",
     "iopub.status.busy": "2021-09-17T10:09:19.732370Z",
     "iopub.status.idle": "2021-09-17T10:09:20.701542Z",
     "shell.execute_reply": "2021-09-17T10:09:20.700454Z",
     "shell.execute_reply.started": "2021-09-17T10:09:19.733125Z"
    }
   },
   "outputs": [],
   "source": [
    "oversampled_df = pd.read_csv('../input/dataset/oversampled_preprocessed.csv')"
   ]
  },
  {
   "cell_type": "markdown",
   "metadata": {},
   "source": [
    "# On oversampled data"
   ]
  },
  {
   "cell_type": "code",
   "execution_count": 3,
   "metadata": {
    "execution": {
     "iopub.execute_input": "2021-09-17T10:09:20.872745Z",
     "iopub.status.busy": "2021-09-17T10:09:20.872380Z",
     "iopub.status.idle": "2021-09-17T10:09:20.901790Z",
     "shell.execute_reply": "2021-09-17T10:09:20.900798Z",
     "shell.execute_reply.started": "2021-09-17T10:09:20.872705Z"
    }
   },
   "outputs": [
    {
     "data": {
      "text/html": [
       "<div>\n",
       "<style scoped>\n",
       "    .dataframe tbody tr th:only-of-type {\n",
       "        vertical-align: middle;\n",
       "    }\n",
       "\n",
       "    .dataframe tbody tr th {\n",
       "        vertical-align: top;\n",
       "    }\n",
       "\n",
       "    .dataframe thead th {\n",
       "        text-align: right;\n",
       "    }\n",
       "</style>\n",
       "<table border=\"1\" class=\"dataframe\">\n",
       "  <thead>\n",
       "    <tr style=\"text-align: right;\">\n",
       "      <th></th>\n",
       "      <th>Unnamed: 0</th>\n",
       "      <th>product_name</th>\n",
       "      <th>product_category_tree</th>\n",
       "      <th>description</th>\n",
       "      <th>brand</th>\n",
       "      <th>classification_category</th>\n",
       "      <th>main_category</th>\n",
       "      <th>cleaned_description</th>\n",
       "    </tr>\n",
       "  </thead>\n",
       "  <tbody>\n",
       "    <tr>\n",
       "      <th>0</th>\n",
       "      <td>1523</td>\n",
       "      <td>Creative Spinach Blue Lion Fish Aquarium Toy S...</td>\n",
       "      <td>[\"Pet Supplies &gt;&gt; Toys &gt;&gt; Comfort Toys\"]</td>\n",
       "      <td>Buy Creative Spinach Blue Lion Fish Aquarium T...</td>\n",
       "      <td>Creative Spinach</td>\n",
       "      <td>petsupplies</td>\n",
       "      <td>1</td>\n",
       "      <td>buy creative spinach blue lion fish aquarium t...</td>\n",
       "    </tr>\n",
       "    <tr>\n",
       "      <th>1</th>\n",
       "      <td>16016</td>\n",
       "      <td>Pawzone Round Stainless Steel Pet Bowl</td>\n",
       "      <td>[\"Pet Supplies &gt;&gt; Storage &amp; Feeding Utensils &gt;...</td>\n",
       "      <td>Specifications of Pawzone Round Stainless Stee...</td>\n",
       "      <td>Pawzone</td>\n",
       "      <td>petsupplies</td>\n",
       "      <td>1</td>\n",
       "      <td>specification pawzone round stainless steel pe...</td>\n",
       "    </tr>\n",
       "    <tr>\n",
       "      <th>2</th>\n",
       "      <td>16038</td>\n",
       "      <td>Pawzone Round Stainless Steel Pet Bowl</td>\n",
       "      <td>[\"Pet Supplies &gt;&gt; Storage &amp; Feeding Utensils &gt;...</td>\n",
       "      <td>Key Features of Pawzone Round Stainless Steel ...</td>\n",
       "      <td>Pawzone</td>\n",
       "      <td>petsupplies</td>\n",
       "      <td>1</td>\n",
       "      <td>key feature pawzone round stainless steel pet ...</td>\n",
       "    </tr>\n",
       "    <tr>\n",
       "      <th>3</th>\n",
       "      <td>15619</td>\n",
       "      <td>Royal Canin Maxi Starter 1kg Vegetable Dog Food</td>\n",
       "      <td>[\"Pet Supplies &gt;&gt; Food &amp; Health Supplies &gt;&gt; Fo...</td>\n",
       "      <td>Specifications of Royal Canin Maxi Starter 1kg...</td>\n",
       "      <td>Royal Canin</td>\n",
       "      <td>petsupplies</td>\n",
       "      <td>1</td>\n",
       "      <td>specification royal canin maxi starter 1kg veg...</td>\n",
       "    </tr>\n",
       "    <tr>\n",
       "      <th>4</th>\n",
       "      <td>10214</td>\n",
       "      <td>Ocean Free Sponge Aquarium Filter</td>\n",
       "      <td>[\"Pet Supplies &gt;&gt; Habitat &gt;&gt; Habitat Essential...</td>\n",
       "      <td>Buy Ocean Free Sponge Aquarium Filter for Rs.1...</td>\n",
       "      <td>Ocean Free</td>\n",
       "      <td>petsupplies</td>\n",
       "      <td>1</td>\n",
       "      <td>buy ocean sponge aquarium filter rs 199 online...</td>\n",
       "    </tr>\n",
       "  </tbody>\n",
       "</table>\n",
       "</div>"
      ],
      "text/plain": [
       "   Unnamed: 0                                       product_name  \\\n",
       "0        1523  Creative Spinach Blue Lion Fish Aquarium Toy S...   \n",
       "1       16016             Pawzone Round Stainless Steel Pet Bowl   \n",
       "2       16038             Pawzone Round Stainless Steel Pet Bowl   \n",
       "3       15619    Royal Canin Maxi Starter 1kg Vegetable Dog Food   \n",
       "4       10214                  Ocean Free Sponge Aquarium Filter   \n",
       "\n",
       "                               product_category_tree  \\\n",
       "0           [\"Pet Supplies >> Toys >> Comfort Toys\"]   \n",
       "1  [\"Pet Supplies >> Storage & Feeding Utensils >...   \n",
       "2  [\"Pet Supplies >> Storage & Feeding Utensils >...   \n",
       "3  [\"Pet Supplies >> Food & Health Supplies >> Fo...   \n",
       "4  [\"Pet Supplies >> Habitat >> Habitat Essential...   \n",
       "\n",
       "                                         description             brand  \\\n",
       "0  Buy Creative Spinach Blue Lion Fish Aquarium T...  Creative Spinach   \n",
       "1  Specifications of Pawzone Round Stainless Stee...           Pawzone   \n",
       "2  Key Features of Pawzone Round Stainless Steel ...           Pawzone   \n",
       "3  Specifications of Royal Canin Maxi Starter 1kg...       Royal Canin   \n",
       "4  Buy Ocean Free Sponge Aquarium Filter for Rs.1...        Ocean Free   \n",
       "\n",
       "  classification_category  main_category  \\\n",
       "0             petsupplies              1   \n",
       "1             petsupplies              1   \n",
       "2             petsupplies              1   \n",
       "3             petsupplies              1   \n",
       "4             petsupplies              1   \n",
       "\n",
       "                                 cleaned_description  \n",
       "0  buy creative spinach blue lion fish aquarium t...  \n",
       "1  specification pawzone round stainless steel pe...  \n",
       "2  key feature pawzone round stainless steel pet ...  \n",
       "3  specification royal canin maxi starter 1kg veg...  \n",
       "4  buy ocean sponge aquarium filter rs 199 online...  "
      ]
     },
     "execution_count": 3,
     "metadata": {},
     "output_type": "execute_result"
    }
   ],
   "source": [
    "oversampled_df.head()"
   ]
  },
  {
   "cell_type": "code",
   "execution_count": 4,
   "metadata": {
    "execution": {
     "iopub.execute_input": "2021-09-17T10:09:21.164314Z",
     "iopub.status.busy": "2021-09-17T10:09:21.163945Z",
     "iopub.status.idle": "2021-09-17T10:09:21.187662Z",
     "shell.execute_reply": "2021-09-17T10:09:21.186275Z",
     "shell.execute_reply.started": "2021-09-17T10:09:21.164265Z"
    }
   },
   "outputs": [
    {
     "data": {
      "text/plain": [
       "petsupplies            3000\n",
       "jewellery              3000\n",
       "footwear               3000\n",
       "ebooks                 3000\n",
       "housefurnishing        3000\n",
       "babycare               3000\n",
       "toys&schoolsupplies    3000\n",
       "automotive             3000\n",
       "clothing               3000\n",
       "tools&hardware         3000\n",
       "sports&fitness         3000\n",
       "personalaccessories    3000\n",
       "electronics            3000\n",
       "Name: classification_category, dtype: int64"
      ]
     },
     "execution_count": 4,
     "metadata": {},
     "output_type": "execute_result"
    }
   ],
   "source": [
    "oversampled_df['classification_category'].value_counts()"
   ]
  },
  {
   "cell_type": "code",
   "execution_count": 5,
   "metadata": {
    "execution": {
     "iopub.execute_input": "2021-09-17T10:09:21.365646Z",
     "iopub.status.busy": "2021-09-17T10:09:21.365237Z",
     "iopub.status.idle": "2021-09-17T10:09:21.405336Z",
     "shell.execute_reply": "2021-09-17T10:09:21.404036Z",
     "shell.execute_reply.started": "2021-09-17T10:09:21.365605Z"
    }
   },
   "outputs": [],
   "source": [
    "oversampled_df['corpus'] = oversampled_df['product_name'] + ' ' + oversampled_df['cleaned_description']"
   ]
  },
  {
   "cell_type": "code",
   "execution_count": 6,
   "metadata": {
    "execution": {
     "iopub.execute_input": "2021-09-17T10:09:21.602761Z",
     "iopub.status.busy": "2021-09-17T10:09:21.602447Z",
     "iopub.status.idle": "2021-09-17T10:09:21.649700Z",
     "shell.execute_reply": "2021-09-17T10:09:21.648620Z",
     "shell.execute_reply.started": "2021-09-17T10:09:21.602731Z"
    }
   },
   "outputs": [],
   "source": [
    "oversampled_df = oversampled_df.sample(frac = 1).reindex()"
   ]
  },
  {
   "cell_type": "code",
   "execution_count": 7,
   "metadata": {
    "execution": {
     "iopub.execute_input": "2021-09-17T10:09:22.371017Z",
     "iopub.status.busy": "2021-09-17T10:09:22.370669Z",
     "iopub.status.idle": "2021-09-17T10:09:22.394592Z",
     "shell.execute_reply": "2021-09-17T10:09:22.393603Z",
     "shell.execute_reply.started": "2021-09-17T10:09:22.370985Z"
    }
   },
   "outputs": [],
   "source": [
    "oversampled_df[\"classification_category\"] = oversampled_df[\"classification_category\"].astype('category')\n",
    "oversampled_df['labels'] = oversampled_df.classification_category.cat.codes"
   ]
  },
  {
   "cell_type": "code",
   "execution_count": 8,
   "metadata": {
    "execution": {
     "iopub.execute_input": "2021-09-17T10:09:23.321028Z",
     "iopub.status.busy": "2021-09-17T10:09:23.320654Z",
     "iopub.status.idle": "2021-09-17T10:09:23.338402Z",
     "shell.execute_reply": "2021-09-17T10:09:23.337222Z",
     "shell.execute_reply.started": "2021-09-17T10:09:23.320988Z"
    }
   },
   "outputs": [
    {
     "data": {
      "text/html": [
       "<div>\n",
       "<style scoped>\n",
       "    .dataframe tbody tr th:only-of-type {\n",
       "        vertical-align: middle;\n",
       "    }\n",
       "\n",
       "    .dataframe tbody tr th {\n",
       "        vertical-align: top;\n",
       "    }\n",
       "\n",
       "    .dataframe thead th {\n",
       "        text-align: right;\n",
       "    }\n",
       "</style>\n",
       "<table border=\"1\" class=\"dataframe\">\n",
       "  <thead>\n",
       "    <tr style=\"text-align: right;\">\n",
       "      <th></th>\n",
       "      <th>Unnamed: 0</th>\n",
       "      <th>product_name</th>\n",
       "      <th>product_category_tree</th>\n",
       "      <th>description</th>\n",
       "      <th>brand</th>\n",
       "      <th>classification_category</th>\n",
       "      <th>main_category</th>\n",
       "      <th>cleaned_description</th>\n",
       "      <th>corpus</th>\n",
       "      <th>labels</th>\n",
       "    </tr>\n",
       "  </thead>\n",
       "  <tbody>\n",
       "    <tr>\n",
       "      <th>18397</th>\n",
       "      <td>17012</td>\n",
       "      <td>Sentinel Mak Furige Model 07</td>\n",
       "      <td>[\"Toys &amp; School Supplies &gt;&gt; Action Figures &gt;&gt; ...</td>\n",
       "      <td>Sentinel Mak Furige Model 07 (Multicolor) Pric...</td>\n",
       "      <td>Sentinel</td>\n",
       "      <td>toys&amp;schoolsupplies</td>\n",
       "      <td>1</td>\n",
       "      <td>sentinel mak furige model 07 multicolor price ...</td>\n",
       "      <td>Sentinel Mak Furige Model 07 sentinel mak furi...</td>\n",
       "      <td>12</td>\n",
       "    </tr>\n",
       "  </tbody>\n",
       "</table>\n",
       "</div>"
      ],
      "text/plain": [
       "       Unnamed: 0                  product_name  \\\n",
       "18397       17012  Sentinel Mak Furige Model 07   \n",
       "\n",
       "                                   product_category_tree  \\\n",
       "18397  [\"Toys & School Supplies >> Action Figures >> ...   \n",
       "\n",
       "                                             description     brand  \\\n",
       "18397  Sentinel Mak Furige Model 07 (Multicolor) Pric...  Sentinel   \n",
       "\n",
       "      classification_category  main_category  \\\n",
       "18397     toys&schoolsupplies              1   \n",
       "\n",
       "                                     cleaned_description  \\\n",
       "18397  sentinel mak furige model 07 multicolor price ...   \n",
       "\n",
       "                                                  corpus  labels  \n",
       "18397  Sentinel Mak Furige Model 07 sentinel mak furi...      12  "
      ]
     },
     "execution_count": 8,
     "metadata": {},
     "output_type": "execute_result"
    }
   ],
   "source": [
    "oversampled_df.head(1)"
   ]
  },
  {
   "cell_type": "code",
   "execution_count": 9,
   "metadata": {
    "execution": {
     "iopub.execute_input": "2021-09-17T10:09:24.510795Z",
     "iopub.status.busy": "2021-09-17T10:09:24.510421Z",
     "iopub.status.idle": "2021-09-17T10:09:24.532321Z",
     "shell.execute_reply": "2021-09-17T10:09:24.531291Z",
     "shell.execute_reply.started": "2021-09-17T10:09:24.510756Z"
    }
   },
   "outputs": [],
   "source": [
    "# splitting train and validation data\n",
    "from sklearn.model_selection import train_test_split\n",
    "over_train, over_valid = train_test_split(oversampled_df, train_size = 0.8, test_size = 0.2, random_state = 0)"
   ]
  },
  {
   "cell_type": "code",
   "execution_count": 10,
   "metadata": {
    "execution": {
     "iopub.execute_input": "2021-09-17T10:09:26.174724Z",
     "iopub.status.busy": "2021-09-17T10:09:26.174454Z",
     "iopub.status.idle": "2021-09-17T10:09:26.181206Z",
     "shell.execute_reply": "2021-09-17T10:09:26.180182Z",
     "shell.execute_reply.started": "2021-09-17T10:09:26.174695Z"
    }
   },
   "outputs": [
    {
     "name": "stdout",
     "output_type": "stream",
     "text": [
      "(31200, 10) (7800, 10)\n"
     ]
    }
   ],
   "source": [
    "print(over_train.shape, over_valid.shape)"
   ]
  },
  {
   "cell_type": "code",
   "execution_count": 11,
   "metadata": {
    "execution": {
     "iopub.execute_input": "2021-09-17T10:09:27.601915Z",
     "iopub.status.busy": "2021-09-17T10:09:27.601626Z",
     "iopub.status.idle": "2021-09-17T10:09:27.608269Z",
     "shell.execute_reply": "2021-09-17T10:09:27.607647Z",
     "shell.execute_reply.started": "2021-09-17T10:09:27.601888Z"
    }
   },
   "outputs": [],
   "source": [
    "over_train_X = over_train.corpus\n",
    "over_train_y = over_train.labels\n",
    "over_valid_X = over_valid.corpus\n",
    "over_valid_y = over_valid.labels"
   ]
  },
  {
   "cell_type": "code",
   "execution_count": 12,
   "metadata": {
    "execution": {
     "iopub.execute_input": "2021-09-17T10:09:29.172595Z",
     "iopub.status.busy": "2021-09-17T10:09:29.172258Z",
     "iopub.status.idle": "2021-09-17T10:09:31.690828Z",
     "shell.execute_reply": "2021-09-17T10:09:31.690025Z",
     "shell.execute_reply.started": "2021-09-17T10:09:29.172568Z"
    }
   },
   "outputs": [
    {
     "data": {
      "text/plain": [
       "Pipeline(steps=[('tfidfvectorizer', TfidfVectorizer()),\n",
       "                ('multinomialnb', MultinomialNB())])"
      ]
     },
     "execution_count": 12,
     "metadata": {},
     "output_type": "execute_result"
    }
   ],
   "source": [
    "model=make_pipeline(TfidfVectorizer(),MultinomialNB())\n",
    "model.fit(over_train_X,over_train_y)"
   ]
  },
  {
   "cell_type": "code",
   "execution_count": 13,
   "metadata": {
    "execution": {
     "iopub.execute_input": "2021-09-17T10:09:35.529341Z",
     "iopub.status.busy": "2021-09-17T10:09:35.528620Z",
     "iopub.status.idle": "2021-09-17T10:09:36.134678Z",
     "shell.execute_reply": "2021-09-17T10:09:36.133987Z",
     "shell.execute_reply.started": "2021-09-17T10:09:35.529306Z"
    }
   },
   "outputs": [],
   "source": [
    "predictions = model.predict(over_valid_X)"
   ]
  },
  {
   "cell_type": "code",
   "execution_count": 14,
   "metadata": {
    "execution": {
     "iopub.execute_input": "2021-09-17T10:09:36.201457Z",
     "iopub.status.busy": "2021-09-17T10:09:36.200680Z",
     "iopub.status.idle": "2021-09-17T10:09:36.208376Z",
     "shell.execute_reply": "2021-09-17T10:09:36.206934Z",
     "shell.execute_reply.started": "2021-09-17T10:09:36.201416Z"
    }
   },
   "outputs": [
    {
     "name": "stdout",
     "output_type": "stream",
     "text": [
      "0.9806410256410256\n"
     ]
    }
   ],
   "source": [
    "from sklearn.metrics import accuracy_score\n",
    "print(accuracy_score(over_valid_y, predictions))"
   ]
  },
  {
   "cell_type": "markdown",
   "metadata": {},
   "source": [
    "# On unbalanced data"
   ]
  },
  {
   "cell_type": "code",
   "execution_count": 15,
   "metadata": {
    "execution": {
     "iopub.execute_input": "2021-09-17T10:12:10.011151Z",
     "iopub.status.busy": "2021-09-17T10:12:10.010528Z",
     "iopub.status.idle": "2021-09-17T10:12:10.540586Z",
     "shell.execute_reply": "2021-09-17T10:12:10.539460Z",
     "shell.execute_reply.started": "2021-09-17T10:12:10.011109Z"
    }
   },
   "outputs": [],
   "source": [
    "df = pd.read_csv('../input/dataset/unbalanced_preprocessed.csv')"
   ]
  },
  {
   "cell_type": "code",
   "execution_count": 16,
   "metadata": {
    "execution": {
     "iopub.execute_input": "2021-09-17T10:12:12.248293Z",
     "iopub.status.busy": "2021-09-17T10:12:12.247945Z",
     "iopub.status.idle": "2021-09-17T10:12:12.268175Z",
     "shell.execute_reply": "2021-09-17T10:12:12.266945Z",
     "shell.execute_reply.started": "2021-09-17T10:12:12.248263Z"
    }
   },
   "outputs": [
    {
     "data": {
      "text/plain": [
       "clothing               5503\n",
       "jewellery              2946\n",
       "housefurnishing        2307\n",
       "personalaccessories    1535\n",
       "electronics            1292\n",
       "footwear               1123\n",
       "automotive             1009\n",
       "toys&schoolsupplies     626\n",
       "tools&hardware          333\n",
       "babycare                324\n",
       "sports&fitness          166\n",
       "petsupplies              30\n",
       "ebooks                   15\n",
       "Name: classification_category, dtype: int64"
      ]
     },
     "execution_count": 16,
     "metadata": {},
     "output_type": "execute_result"
    }
   ],
   "source": [
    "df = df[df['main_category'] == 1]\n",
    "df['classification_category'].value_counts()"
   ]
  },
  {
   "cell_type": "code",
   "execution_count": 17,
   "metadata": {
    "execution": {
     "iopub.execute_input": "2021-09-17T10:12:17.829819Z",
     "iopub.status.busy": "2021-09-17T10:12:17.829538Z",
     "iopub.status.idle": "2021-09-17T10:12:17.848739Z",
     "shell.execute_reply": "2021-09-17T10:12:17.847559Z",
     "shell.execute_reply.started": "2021-09-17T10:12:17.829792Z"
    }
   },
   "outputs": [],
   "source": [
    "df['corpus'] = df['product_name'] + ' ' + df['cleaned_description']"
   ]
  },
  {
   "cell_type": "code",
   "execution_count": 18,
   "metadata": {
    "execution": {
     "iopub.execute_input": "2021-09-17T10:12:20.308756Z",
     "iopub.status.busy": "2021-09-17T10:12:20.308452Z",
     "iopub.status.idle": "2021-09-17T10:12:20.329016Z",
     "shell.execute_reply": "2021-09-17T10:12:20.327732Z",
     "shell.execute_reply.started": "2021-09-17T10:12:20.308726Z"
    }
   },
   "outputs": [],
   "source": [
    "df = df.sample(frac = 1).reindex()"
   ]
  },
  {
   "cell_type": "code",
   "execution_count": 19,
   "metadata": {
    "execution": {
     "iopub.execute_input": "2021-09-17T10:12:26.088289Z",
     "iopub.status.busy": "2021-09-17T10:12:26.087476Z",
     "iopub.status.idle": "2021-09-17T10:12:26.101593Z",
     "shell.execute_reply": "2021-09-17T10:12:26.100797Z",
     "shell.execute_reply.started": "2021-09-17T10:12:26.088249Z"
    }
   },
   "outputs": [],
   "source": [
    "df[\"classification_category\"] = df[\"classification_category\"].astype('category')\n",
    "df['labels'] = df.classification_category.cat.codes"
   ]
  },
  {
   "cell_type": "code",
   "execution_count": 20,
   "metadata": {
    "execution": {
     "iopub.execute_input": "2021-09-17T10:12:30.891533Z",
     "iopub.status.busy": "2021-09-17T10:12:30.891006Z",
     "iopub.status.idle": "2021-09-17T10:12:30.907255Z",
     "shell.execute_reply": "2021-09-17T10:12:30.906412Z",
     "shell.execute_reply.started": "2021-09-17T10:12:30.891500Z"
    }
   },
   "outputs": [
    {
     "data": {
      "text/html": [
       "<div>\n",
       "<style scoped>\n",
       "    .dataframe tbody tr th:only-of-type {\n",
       "        vertical-align: middle;\n",
       "    }\n",
       "\n",
       "    .dataframe tbody tr th {\n",
       "        vertical-align: top;\n",
       "    }\n",
       "\n",
       "    .dataframe thead th {\n",
       "        text-align: right;\n",
       "    }\n",
       "</style>\n",
       "<table border=\"1\" class=\"dataframe\">\n",
       "  <thead>\n",
       "    <tr style=\"text-align: right;\">\n",
       "      <th></th>\n",
       "      <th>Unnamed: 0</th>\n",
       "      <th>product_name</th>\n",
       "      <th>product_category_tree</th>\n",
       "      <th>description</th>\n",
       "      <th>brand</th>\n",
       "      <th>classification_category</th>\n",
       "      <th>main_category</th>\n",
       "      <th>cleaned_description</th>\n",
       "      <th>corpus</th>\n",
       "      <th>labels</th>\n",
       "    </tr>\n",
       "  </thead>\n",
       "  <tbody>\n",
       "    <tr>\n",
       "      <th>1446</th>\n",
       "      <td>1446</td>\n",
       "      <td>Parv Collections Showpiece  -  12 cm</td>\n",
       "      <td>[\"Home Decor &amp; Festive Needs &gt;&gt; Showpieces &gt;&gt; ...</td>\n",
       "      <td>Parv Collections Showpiece  -  12 cm (Polyresi...</td>\n",
       "      <td>Parv Collections</td>\n",
       "      <td>housefurnishing</td>\n",
       "      <td>1</td>\n",
       "      <td>parv collection showpiece 12 cm polyresin mult...</td>\n",
       "      <td>Parv Collections Showpiece  -  12 cm parv coll...</td>\n",
       "      <td>6</td>\n",
       "    </tr>\n",
       "  </tbody>\n",
       "</table>\n",
       "</div>"
      ],
      "text/plain": [
       "      Unnamed: 0                          product_name  \\\n",
       "1446        1446  Parv Collections Showpiece  -  12 cm   \n",
       "\n",
       "                                  product_category_tree  \\\n",
       "1446  [\"Home Decor & Festive Needs >> Showpieces >> ...   \n",
       "\n",
       "                                            description             brand  \\\n",
       "1446  Parv Collections Showpiece  -  12 cm (Polyresi...  Parv Collections   \n",
       "\n",
       "     classification_category  main_category  \\\n",
       "1446         housefurnishing              1   \n",
       "\n",
       "                                    cleaned_description  \\\n",
       "1446  parv collection showpiece 12 cm polyresin mult...   \n",
       "\n",
       "                                                 corpus  labels  \n",
       "1446  Parv Collections Showpiece  -  12 cm parv coll...       6  "
      ]
     },
     "execution_count": 20,
     "metadata": {},
     "output_type": "execute_result"
    }
   ],
   "source": [
    "df.head(1)"
   ]
  },
  {
   "cell_type": "code",
   "execution_count": 21,
   "metadata": {
    "execution": {
     "iopub.execute_input": "2021-09-17T10:12:35.630177Z",
     "iopub.status.busy": "2021-09-17T10:12:35.629769Z",
     "iopub.status.idle": "2021-09-17T10:12:35.642576Z",
     "shell.execute_reply": "2021-09-17T10:12:35.641899Z",
     "shell.execute_reply.started": "2021-09-17T10:12:35.630146Z"
    }
   },
   "outputs": [],
   "source": [
    "# splitting train and validation data\n",
    "from sklearn.model_selection import train_test_split\n",
    "train, valid = train_test_split(df, train_size = 0.8, test_size = 0.2, random_state = 0)"
   ]
  },
  {
   "cell_type": "code",
   "execution_count": 22,
   "metadata": {
    "execution": {
     "iopub.execute_input": "2021-09-17T10:12:38.153951Z",
     "iopub.status.busy": "2021-09-17T10:12:38.153447Z",
     "iopub.status.idle": "2021-09-17T10:12:38.159382Z",
     "shell.execute_reply": "2021-09-17T10:12:38.158687Z",
     "shell.execute_reply.started": "2021-09-17T10:12:38.153916Z"
    }
   },
   "outputs": [],
   "source": [
    "train_X = train.corpus\n",
    "train_y = train.labels\n",
    "valid_X = valid.corpus\n",
    "valid_y = valid.labels"
   ]
  },
  {
   "cell_type": "code",
   "execution_count": 23,
   "metadata": {
    "execution": {
     "iopub.execute_input": "2021-09-17T10:12:41.952067Z",
     "iopub.status.busy": "2021-09-17T10:12:41.951504Z",
     "iopub.status.idle": "2021-09-17T10:12:43.020081Z",
     "shell.execute_reply": "2021-09-17T10:12:43.018789Z",
     "shell.execute_reply.started": "2021-09-17T10:12:41.952018Z"
    }
   },
   "outputs": [
    {
     "data": {
      "text/plain": [
       "Pipeline(steps=[('tfidfvectorizer', TfidfVectorizer()),\n",
       "                ('multinomialnb', MultinomialNB())])"
      ]
     },
     "execution_count": 23,
     "metadata": {},
     "output_type": "execute_result"
    }
   ],
   "source": [
    "model1=make_pipeline(TfidfVectorizer(),MultinomialNB())\n",
    "model1.fit(train_X,train_y)"
   ]
  },
  {
   "cell_type": "code",
   "execution_count": 24,
   "metadata": {
    "execution": {
     "iopub.execute_input": "2021-09-17T10:13:04.023790Z",
     "iopub.status.busy": "2021-09-17T10:13:04.023452Z",
     "iopub.status.idle": "2021-09-17T10:13:04.269159Z",
     "shell.execute_reply": "2021-09-17T10:13:04.268056Z",
     "shell.execute_reply.started": "2021-09-17T10:13:04.023759Z"
    }
   },
   "outputs": [],
   "source": [
    "pred = model.predict(valid_X)"
   ]
  },
  {
   "cell_type": "code",
   "execution_count": 25,
   "metadata": {
    "execution": {
     "iopub.execute_input": "2021-09-17T10:13:09.077718Z",
     "iopub.status.busy": "2021-09-17T10:13:09.077411Z",
     "iopub.status.idle": "2021-09-17T10:13:09.085081Z",
     "shell.execute_reply": "2021-09-17T10:13:09.083537Z",
     "shell.execute_reply.started": "2021-09-17T10:13:09.077687Z"
    }
   },
   "outputs": [
    {
     "name": "stdout",
     "output_type": "stream",
     "text": [
      "0.962521789657176\n"
     ]
    }
   ],
   "source": [
    "print(accuracy_score(valid_y, pred))"
   ]
  },
  {
   "cell_type": "code",
   "execution_count": null,
   "metadata": {},
   "outputs": [],
   "source": []
  }
 ],
 "metadata": {
  "kernelspec": {
   "display_name": "Python 3",
   "language": "python",
   "name": "python3"
  },
  "language_info": {
   "codemirror_mode": {
    "name": "ipython",
    "version": 3
   },
   "file_extension": ".py",
   "mimetype": "text/x-python",
   "name": "python",
   "nbconvert_exporter": "python",
   "pygments_lexer": "ipython3",
   "version": "3.8.5"
  }
 },
 "nbformat": 4,
 "nbformat_minor": 4
}
