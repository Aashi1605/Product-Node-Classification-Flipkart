{
 "cells": [
  {
   "cell_type": "code",
   "execution_count": 8,
   "metadata": {
    "execution": {
     "iopub.execute_input": "2021-09-17T09:56:32.340259Z",
     "iopub.status.busy": "2021-09-17T09:56:32.339955Z",
     "iopub.status.idle": "2021-09-17T09:56:32.345505Z",
     "shell.execute_reply": "2021-09-17T09:56:32.344505Z",
     "shell.execute_reply.started": "2021-09-17T09:56:32.340231Z"
    }
   },
   "outputs": [],
   "source": [
    "import pandas as pd\n",
    "import numpy as np\n",
    "from sklearn.model_selection import train_test_split\n",
    "from sklearn.pipeline import Pipeline\n",
    "from sklearn.feature_extraction.text import TfidfVectorizer\n",
    "from sklearn.ensemble import RandomForestClassifier\n",
    "from sklearn.feature_selection import SelectKBest, chi2\n"
   ]
  },
  {
   "cell_type": "code",
   "execution_count": 9,
   "metadata": {
    "execution": {
     "iopub.execute_input": "2021-09-17T09:56:32.347628Z",
     "iopub.status.busy": "2021-09-17T09:56:32.347173Z",
     "iopub.status.idle": "2021-09-17T09:56:32.788206Z",
     "shell.execute_reply": "2021-09-17T09:56:32.787257Z",
     "shell.execute_reply.started": "2021-09-17T09:56:32.347598Z"
    }
   },
   "outputs": [],
   "source": [
    "oversampled_df = pd.read_csv('../input/dataset/oversampled_preprocessed.csv')"
   ]
  },
  {
   "cell_type": "markdown",
   "metadata": {},
   "source": [
    "# On oversampled data"
   ]
  },
  {
   "cell_type": "code",
   "execution_count": 10,
   "metadata": {
    "execution": {
     "iopub.execute_input": "2021-09-17T09:56:32.789503Z",
     "iopub.status.busy": "2021-09-17T09:56:32.789296Z",
     "iopub.status.idle": "2021-09-17T09:56:32.814850Z",
     "shell.execute_reply": "2021-09-17T09:56:32.814068Z",
     "shell.execute_reply.started": "2021-09-17T09:56:32.789479Z"
    }
   },
   "outputs": [
    {
     "data": {
      "text/html": [
       "<div>\n",
       "<style scoped>\n",
       "    .dataframe tbody tr th:only-of-type {\n",
       "        vertical-align: middle;\n",
       "    }\n",
       "\n",
       "    .dataframe tbody tr th {\n",
       "        vertical-align: top;\n",
       "    }\n",
       "\n",
       "    .dataframe thead th {\n",
       "        text-align: right;\n",
       "    }\n",
       "</style>\n",
       "<table border=\"1\" class=\"dataframe\">\n",
       "  <thead>\n",
       "    <tr style=\"text-align: right;\">\n",
       "      <th></th>\n",
       "      <th>Unnamed: 0</th>\n",
       "      <th>product_name</th>\n",
       "      <th>product_category_tree</th>\n",
       "      <th>description</th>\n",
       "      <th>brand</th>\n",
       "      <th>classification_category</th>\n",
       "      <th>main_category</th>\n",
       "      <th>cleaned_description</th>\n",
       "    </tr>\n",
       "  </thead>\n",
       "  <tbody>\n",
       "    <tr>\n",
       "      <th>0</th>\n",
       "      <td>1523</td>\n",
       "      <td>Creative Spinach Blue Lion Fish Aquarium Toy S...</td>\n",
       "      <td>[\"Pet Supplies &gt;&gt; Toys &gt;&gt; Comfort Toys\"]</td>\n",
       "      <td>Buy Creative Spinach Blue Lion Fish Aquarium T...</td>\n",
       "      <td>Creative Spinach</td>\n",
       "      <td>petsupplies</td>\n",
       "      <td>1</td>\n",
       "      <td>buy creative spinach blue lion fish aquarium t...</td>\n",
       "    </tr>\n",
       "    <tr>\n",
       "      <th>1</th>\n",
       "      <td>16016</td>\n",
       "      <td>Pawzone Round Stainless Steel Pet Bowl</td>\n",
       "      <td>[\"Pet Supplies &gt;&gt; Storage &amp; Feeding Utensils &gt;...</td>\n",
       "      <td>Specifications of Pawzone Round Stainless Stee...</td>\n",
       "      <td>Pawzone</td>\n",
       "      <td>petsupplies</td>\n",
       "      <td>1</td>\n",
       "      <td>specification pawzone round stainless steel pe...</td>\n",
       "    </tr>\n",
       "    <tr>\n",
       "      <th>2</th>\n",
       "      <td>16038</td>\n",
       "      <td>Pawzone Round Stainless Steel Pet Bowl</td>\n",
       "      <td>[\"Pet Supplies &gt;&gt; Storage &amp; Feeding Utensils &gt;...</td>\n",
       "      <td>Key Features of Pawzone Round Stainless Steel ...</td>\n",
       "      <td>Pawzone</td>\n",
       "      <td>petsupplies</td>\n",
       "      <td>1</td>\n",
       "      <td>key feature pawzone round stainless steel pet ...</td>\n",
       "    </tr>\n",
       "    <tr>\n",
       "      <th>3</th>\n",
       "      <td>15619</td>\n",
       "      <td>Royal Canin Maxi Starter 1kg Vegetable Dog Food</td>\n",
       "      <td>[\"Pet Supplies &gt;&gt; Food &amp; Health Supplies &gt;&gt; Fo...</td>\n",
       "      <td>Specifications of Royal Canin Maxi Starter 1kg...</td>\n",
       "      <td>Royal Canin</td>\n",
       "      <td>petsupplies</td>\n",
       "      <td>1</td>\n",
       "      <td>specification royal canin maxi starter 1kg veg...</td>\n",
       "    </tr>\n",
       "    <tr>\n",
       "      <th>4</th>\n",
       "      <td>10214</td>\n",
       "      <td>Ocean Free Sponge Aquarium Filter</td>\n",
       "      <td>[\"Pet Supplies &gt;&gt; Habitat &gt;&gt; Habitat Essential...</td>\n",
       "      <td>Buy Ocean Free Sponge Aquarium Filter for Rs.1...</td>\n",
       "      <td>Ocean Free</td>\n",
       "      <td>petsupplies</td>\n",
       "      <td>1</td>\n",
       "      <td>buy ocean sponge aquarium filter rs 199 online...</td>\n",
       "    </tr>\n",
       "  </tbody>\n",
       "</table>\n",
       "</div>"
      ],
      "text/plain": [
       "   Unnamed: 0                                       product_name  \\\n",
       "0        1523  Creative Spinach Blue Lion Fish Aquarium Toy S...   \n",
       "1       16016             Pawzone Round Stainless Steel Pet Bowl   \n",
       "2       16038             Pawzone Round Stainless Steel Pet Bowl   \n",
       "3       15619    Royal Canin Maxi Starter 1kg Vegetable Dog Food   \n",
       "4       10214                  Ocean Free Sponge Aquarium Filter   \n",
       "\n",
       "                               product_category_tree  \\\n",
       "0           [\"Pet Supplies >> Toys >> Comfort Toys\"]   \n",
       "1  [\"Pet Supplies >> Storage & Feeding Utensils >...   \n",
       "2  [\"Pet Supplies >> Storage & Feeding Utensils >...   \n",
       "3  [\"Pet Supplies >> Food & Health Supplies >> Fo...   \n",
       "4  [\"Pet Supplies >> Habitat >> Habitat Essential...   \n",
       "\n",
       "                                         description             brand  \\\n",
       "0  Buy Creative Spinach Blue Lion Fish Aquarium T...  Creative Spinach   \n",
       "1  Specifications of Pawzone Round Stainless Stee...           Pawzone   \n",
       "2  Key Features of Pawzone Round Stainless Steel ...           Pawzone   \n",
       "3  Specifications of Royal Canin Maxi Starter 1kg...       Royal Canin   \n",
       "4  Buy Ocean Free Sponge Aquarium Filter for Rs.1...        Ocean Free   \n",
       "\n",
       "  classification_category  main_category  \\\n",
       "0             petsupplies              1   \n",
       "1             petsupplies              1   \n",
       "2             petsupplies              1   \n",
       "3             petsupplies              1   \n",
       "4             petsupplies              1   \n",
       "\n",
       "                                 cleaned_description  \n",
       "0  buy creative spinach blue lion fish aquarium t...  \n",
       "1  specification pawzone round stainless steel pe...  \n",
       "2  key feature pawzone round stainless steel pet ...  \n",
       "3  specification royal canin maxi starter 1kg veg...  \n",
       "4  buy ocean sponge aquarium filter rs 199 online...  "
      ]
     },
     "execution_count": 10,
     "metadata": {},
     "output_type": "execute_result"
    }
   ],
   "source": [
    "oversampled_df.head()"
   ]
  },
  {
   "cell_type": "code",
   "execution_count": 11,
   "metadata": {
    "execution": {
     "iopub.execute_input": "2021-09-17T09:56:32.816994Z",
     "iopub.status.busy": "2021-09-17T09:56:32.816759Z",
     "iopub.status.idle": "2021-09-17T09:56:32.834150Z",
     "shell.execute_reply": "2021-09-17T09:56:32.833486Z",
     "shell.execute_reply.started": "2021-09-17T09:56:32.816968Z"
    }
   },
   "outputs": [
    {
     "data": {
      "text/plain": [
       "petsupplies            3000\n",
       "jewellery              3000\n",
       "footwear               3000\n",
       "ebooks                 3000\n",
       "housefurnishing        3000\n",
       "babycare               3000\n",
       "toys&schoolsupplies    3000\n",
       "automotive             3000\n",
       "clothing               3000\n",
       "tools&hardware         3000\n",
       "sports&fitness         3000\n",
       "personalaccessories    3000\n",
       "electronics            3000\n",
       "Name: classification_category, dtype: int64"
      ]
     },
     "execution_count": 11,
     "metadata": {},
     "output_type": "execute_result"
    }
   ],
   "source": [
    "oversampled_df['classification_category'].value_counts()"
   ]
  },
  {
   "cell_type": "code",
   "execution_count": 12,
   "metadata": {
    "execution": {
     "iopub.execute_input": "2021-09-17T09:56:32.835870Z",
     "iopub.status.busy": "2021-09-17T09:56:32.835203Z",
     "iopub.status.idle": "2021-09-17T09:56:32.868510Z",
     "shell.execute_reply": "2021-09-17T09:56:32.867638Z",
     "shell.execute_reply.started": "2021-09-17T09:56:32.835836Z"
    }
   },
   "outputs": [],
   "source": [
    "oversampled_df['corpus'] = oversampled_df['product_name'] + ' ' + oversampled_df['cleaned_description']"
   ]
  },
  {
   "cell_type": "code",
   "execution_count": 13,
   "metadata": {
    "execution": {
     "iopub.execute_input": "2021-09-17T09:56:32.870177Z",
     "iopub.status.busy": "2021-09-17T09:56:32.869855Z",
     "iopub.status.idle": "2021-09-17T09:56:32.905103Z",
     "shell.execute_reply": "2021-09-17T09:56:32.904497Z",
     "shell.execute_reply.started": "2021-09-17T09:56:32.870138Z"
    }
   },
   "outputs": [],
   "source": [
    "oversampled_df = oversampled_df.sample(frac = 1).reindex()"
   ]
  },
  {
   "cell_type": "code",
   "execution_count": 14,
   "metadata": {
    "execution": {
     "iopub.execute_input": "2021-09-17T09:56:32.906873Z",
     "iopub.status.busy": "2021-09-17T09:56:32.906386Z",
     "iopub.status.idle": "2021-09-17T09:56:32.926210Z",
     "shell.execute_reply": "2021-09-17T09:56:32.925605Z",
     "shell.execute_reply.started": "2021-09-17T09:56:32.906834Z"
    }
   },
   "outputs": [],
   "source": [
    "oversampled_df[\"classification_category\"] = oversampled_df[\"classification_category\"].astype('category')\n",
    "oversampled_df['labels'] = oversampled_df.classification_category.cat.codes"
   ]
  },
  {
   "cell_type": "code",
   "execution_count": 15,
   "metadata": {
    "execution": {
     "iopub.execute_input": "2021-09-17T09:56:32.927941Z",
     "iopub.status.busy": "2021-09-17T09:56:32.927442Z",
     "iopub.status.idle": "2021-09-17T09:56:32.944546Z",
     "shell.execute_reply": "2021-09-17T09:56:32.943685Z",
     "shell.execute_reply.started": "2021-09-17T09:56:32.927902Z"
    }
   },
   "outputs": [
    {
     "data": {
      "text/html": [
       "<div>\n",
       "<style scoped>\n",
       "    .dataframe tbody tr th:only-of-type {\n",
       "        vertical-align: middle;\n",
       "    }\n",
       "\n",
       "    .dataframe tbody tr th {\n",
       "        vertical-align: top;\n",
       "    }\n",
       "\n",
       "    .dataframe thead th {\n",
       "        text-align: right;\n",
       "    }\n",
       "</style>\n",
       "<table border=\"1\" class=\"dataframe\">\n",
       "  <thead>\n",
       "    <tr style=\"text-align: right;\">\n",
       "      <th></th>\n",
       "      <th>Unnamed: 0</th>\n",
       "      <th>product_name</th>\n",
       "      <th>product_category_tree</th>\n",
       "      <th>description</th>\n",
       "      <th>brand</th>\n",
       "      <th>classification_category</th>\n",
       "      <th>main_category</th>\n",
       "      <th>cleaned_description</th>\n",
       "      <th>corpus</th>\n",
       "      <th>labels</th>\n",
       "    </tr>\n",
       "  </thead>\n",
       "  <tbody>\n",
       "    <tr>\n",
       "      <th>7663</th>\n",
       "      <td>13375</td>\n",
       "      <td>Catwalk Women Wedges</td>\n",
       "      <td>[\"Footwear &gt;&gt; Women's Footwear &gt;&gt; Wedges\"]</td>\n",
       "      <td>Catwalk Women Wedges\\n                        ...</td>\n",
       "      <td>NaN</td>\n",
       "      <td>footwear</td>\n",
       "      <td>1</td>\n",
       "      <td>catwalk woman wedge price 2 995 feel energy wa...</td>\n",
       "      <td>Catwalk Women Wedges catwalk woman wedge price...</td>\n",
       "      <td>5</td>\n",
       "    </tr>\n",
       "  </tbody>\n",
       "</table>\n",
       "</div>"
      ],
      "text/plain": [
       "      Unnamed: 0          product_name  \\\n",
       "7663       13375  Catwalk Women Wedges   \n",
       "\n",
       "                           product_category_tree  \\\n",
       "7663  [\"Footwear >> Women's Footwear >> Wedges\"]   \n",
       "\n",
       "                                            description brand  \\\n",
       "7663  Catwalk Women Wedges\\n                        ...   NaN   \n",
       "\n",
       "     classification_category  main_category  \\\n",
       "7663                footwear              1   \n",
       "\n",
       "                                    cleaned_description  \\\n",
       "7663  catwalk woman wedge price 2 995 feel energy wa...   \n",
       "\n",
       "                                                 corpus  labels  \n",
       "7663  Catwalk Women Wedges catwalk woman wedge price...       5  "
      ]
     },
     "execution_count": 15,
     "metadata": {},
     "output_type": "execute_result"
    }
   ],
   "source": [
    "oversampled_df.head(1)"
   ]
  },
  {
   "cell_type": "code",
   "execution_count": 16,
   "metadata": {
    "execution": {
     "iopub.execute_input": "2021-09-17T09:56:32.947246Z",
     "iopub.status.busy": "2021-09-17T09:56:32.947009Z",
     "iopub.status.idle": "2021-09-17T09:56:32.963964Z",
     "shell.execute_reply": "2021-09-17T09:56:32.963409Z",
     "shell.execute_reply.started": "2021-09-17T09:56:32.947217Z"
    }
   },
   "outputs": [],
   "source": [
    "# splitting train and validation data\n",
    "from sklearn.model_selection import train_test_split\n",
    "over_train, over_valid = train_test_split(oversampled_df, train_size = 0.8, test_size = 0.2, random_state = 0)"
   ]
  },
  {
   "cell_type": "code",
   "execution_count": 17,
   "metadata": {
    "execution": {
     "iopub.execute_input": "2021-09-17T09:56:32.965355Z",
     "iopub.status.busy": "2021-09-17T09:56:32.965031Z",
     "iopub.status.idle": "2021-09-17T09:56:32.971733Z",
     "shell.execute_reply": "2021-09-17T09:56:32.970500Z",
     "shell.execute_reply.started": "2021-09-17T09:56:32.965329Z"
    }
   },
   "outputs": [
    {
     "name": "stdout",
     "output_type": "stream",
     "text": [
      "(31200, 10) (7800, 10)\n"
     ]
    }
   ],
   "source": [
    "print(over_train.shape, over_valid.shape)"
   ]
  },
  {
   "cell_type": "code",
   "execution_count": 18,
   "metadata": {
    "execution": {
     "iopub.execute_input": "2021-09-17T09:56:32.973366Z",
     "iopub.status.busy": "2021-09-17T09:56:32.973150Z",
     "iopub.status.idle": "2021-09-17T09:56:32.984669Z",
     "shell.execute_reply": "2021-09-17T09:56:32.983603Z",
     "shell.execute_reply.started": "2021-09-17T09:56:32.973343Z"
    }
   },
   "outputs": [],
   "source": [
    "over_train_X = over_train.corpus\n",
    "over_train_y = over_train.labels\n",
    "over_valid_X = over_valid.corpus\n",
    "over_valid_y = over_valid.labels"
   ]
  },
  {
   "cell_type": "code",
   "execution_count": 19,
   "metadata": {
    "execution": {
     "iopub.execute_input": "2021-09-17T09:56:32.986551Z",
     "iopub.status.busy": "2021-09-17T09:56:32.986281Z",
     "iopub.status.idle": "2021-09-17T09:56:32.996039Z",
     "shell.execute_reply": "2021-09-17T09:56:32.995266Z",
     "shell.execute_reply.started": "2021-09-17T09:56:32.986500Z"
    }
   },
   "outputs": [],
   "source": [
    "\n",
    "\n",
    "pipeline = Pipeline([('tfidf',TfidfVectorizer()),\n",
    "                     ('chi',  SelectKBest(chi2, k=100)),\n",
    "                     ('clf', RandomForestClassifier())])\n",
    "\n"
   ]
  },
  {
   "cell_type": "code",
   "execution_count": 22,
   "metadata": {
    "execution": {
     "iopub.execute_input": "2021-09-17T09:57:35.290374Z",
     "iopub.status.busy": "2021-09-17T09:57:35.289489Z",
     "iopub.status.idle": "2021-09-17T09:57:45.613067Z",
     "shell.execute_reply": "2021-09-17T09:57:45.612004Z",
     "shell.execute_reply.started": "2021-09-17T09:57:35.290325Z"
    }
   },
   "outputs": [],
   "source": [
    "model=pipeline.fit(over_train_X,over_train_y)"
   ]
  },
  {
   "cell_type": "code",
   "execution_count": 23,
   "metadata": {
    "execution": {
     "iopub.execute_input": "2021-09-17T09:57:57.088132Z",
     "iopub.status.busy": "2021-09-17T09:57:57.087796Z",
     "iopub.status.idle": "2021-09-17T09:57:57.914782Z",
     "shell.execute_reply": "2021-09-17T09:57:57.913830Z",
     "shell.execute_reply.started": "2021-09-17T09:57:57.088101Z"
    }
   },
   "outputs": [],
   "source": [
    "predictions=model.predict(over_valid_X)"
   ]
  },
  {
   "cell_type": "code",
   "execution_count": 24,
   "metadata": {
    "execution": {
     "iopub.execute_input": "2021-09-17T09:58:00.728811Z",
     "iopub.status.busy": "2021-09-17T09:58:00.728451Z",
     "iopub.status.idle": "2021-09-17T09:58:00.735262Z",
     "shell.execute_reply": "2021-09-17T09:58:00.734583Z",
     "shell.execute_reply.started": "2021-09-17T09:58:00.728777Z"
    }
   },
   "outputs": [
    {
     "name": "stdout",
     "output_type": "stream",
     "text": [
      "0.911025641025641\n"
     ]
    }
   ],
   "source": [
    "from sklearn.metrics import accuracy_score\n",
    "print(accuracy_score(over_valid_y, predictions))"
   ]
  },
  {
   "cell_type": "markdown",
   "metadata": {},
   "source": [
    "# On unbalanced data"
   ]
  },
  {
   "cell_type": "code",
   "execution_count": 25,
   "metadata": {
    "execution": {
     "iopub.execute_input": "2021-09-17T09:58:11.321220Z",
     "iopub.status.busy": "2021-09-17T09:58:11.320348Z",
     "iopub.status.idle": "2021-09-17T09:58:11.947672Z",
     "shell.execute_reply": "2021-09-17T09:58:11.946596Z",
     "shell.execute_reply.started": "2021-09-17T09:58:11.321177Z"
    }
   },
   "outputs": [],
   "source": [
    "df = pd.read_csv('../input/dataset/unbalanced_preprocessed.csv')"
   ]
  },
  {
   "cell_type": "code",
   "execution_count": 26,
   "metadata": {
    "execution": {
     "iopub.execute_input": "2021-09-17T09:58:13.515435Z",
     "iopub.status.busy": "2021-09-17T09:58:13.515039Z",
     "iopub.status.idle": "2021-09-17T09:58:13.533062Z",
     "shell.execute_reply": "2021-09-17T09:58:13.532087Z",
     "shell.execute_reply.started": "2021-09-17T09:58:13.515398Z"
    }
   },
   "outputs": [
    {
     "data": {
      "text/plain": [
       "clothing               5503\n",
       "jewellery              2946\n",
       "housefurnishing        2307\n",
       "personalaccessories    1535\n",
       "electronics            1292\n",
       "footwear               1123\n",
       "automotive             1009\n",
       "toys&schoolsupplies     626\n",
       "tools&hardware          333\n",
       "babycare                324\n",
       "sports&fitness          166\n",
       "petsupplies              30\n",
       "ebooks                   15\n",
       "Name: classification_category, dtype: int64"
      ]
     },
     "execution_count": 26,
     "metadata": {},
     "output_type": "execute_result"
    }
   ],
   "source": [
    "df = df[df['main_category'] == 1]\n",
    "df['classification_category'].value_counts()"
   ]
  },
  {
   "cell_type": "code",
   "execution_count": 27,
   "metadata": {
    "execution": {
     "iopub.execute_input": "2021-09-17T09:58:37.359171Z",
     "iopub.status.busy": "2021-09-17T09:58:37.358818Z",
     "iopub.status.idle": "2021-09-17T09:58:37.378329Z",
     "shell.execute_reply": "2021-09-17T09:58:37.377169Z",
     "shell.execute_reply.started": "2021-09-17T09:58:37.359139Z"
    }
   },
   "outputs": [],
   "source": [
    "df['corpus'] = df['product_name'] + ' ' + df['cleaned_description']"
   ]
  },
  {
   "cell_type": "code",
   "execution_count": 28,
   "metadata": {
    "execution": {
     "iopub.execute_input": "2021-09-17T09:58:39.466599Z",
     "iopub.status.busy": "2021-09-17T09:58:39.465513Z",
     "iopub.status.idle": "2021-09-17T09:58:39.488040Z",
     "shell.execute_reply": "2021-09-17T09:58:39.486898Z",
     "shell.execute_reply.started": "2021-09-17T09:58:39.466554Z"
    }
   },
   "outputs": [],
   "source": [
    "df = df.sample(frac = 1).reindex()"
   ]
  },
  {
   "cell_type": "code",
   "execution_count": 29,
   "metadata": {
    "execution": {
     "iopub.execute_input": "2021-09-17T09:58:45.885292Z",
     "iopub.status.busy": "2021-09-17T09:58:45.884938Z",
     "iopub.status.idle": "2021-09-17T09:58:45.900513Z",
     "shell.execute_reply": "2021-09-17T09:58:45.899143Z",
     "shell.execute_reply.started": "2021-09-17T09:58:45.885258Z"
    }
   },
   "outputs": [],
   "source": [
    "df[\"classification_category\"] = df[\"classification_category\"].astype('category')\n",
    "df['labels'] = df.classification_category.cat.codes"
   ]
  },
  {
   "cell_type": "code",
   "execution_count": 30,
   "metadata": {
    "execution": {
     "iopub.execute_input": "2021-09-17T09:58:49.543185Z",
     "iopub.status.busy": "2021-09-17T09:58:49.542837Z",
     "iopub.status.idle": "2021-09-17T09:58:49.560628Z",
     "shell.execute_reply": "2021-09-17T09:58:49.559300Z",
     "shell.execute_reply.started": "2021-09-17T09:58:49.543150Z"
    }
   },
   "outputs": [
    {
     "data": {
      "text/html": [
       "<div>\n",
       "<style scoped>\n",
       "    .dataframe tbody tr th:only-of-type {\n",
       "        vertical-align: middle;\n",
       "    }\n",
       "\n",
       "    .dataframe tbody tr th {\n",
       "        vertical-align: top;\n",
       "    }\n",
       "\n",
       "    .dataframe thead th {\n",
       "        text-align: right;\n",
       "    }\n",
       "</style>\n",
       "<table border=\"1\" class=\"dataframe\">\n",
       "  <thead>\n",
       "    <tr style=\"text-align: right;\">\n",
       "      <th></th>\n",
       "      <th>Unnamed: 0</th>\n",
       "      <th>product_name</th>\n",
       "      <th>product_category_tree</th>\n",
       "      <th>description</th>\n",
       "      <th>brand</th>\n",
       "      <th>classification_category</th>\n",
       "      <th>main_category</th>\n",
       "      <th>cleaned_description</th>\n",
       "      <th>corpus</th>\n",
       "      <th>labels</th>\n",
       "    </tr>\n",
       "  </thead>\n",
       "  <tbody>\n",
       "    <tr>\n",
       "      <th>1944</th>\n",
       "      <td>1944</td>\n",
       "      <td>Vivity Comfortable Women's Plunge Bra</td>\n",
       "      <td>[\"Clothing &gt;&gt; Women's Clothing &gt;&gt; Lingerie, Sl...</td>\n",
       "      <td>Vivity Comfortable Women's Plunge Bra - Buy Or...</td>\n",
       "      <td>Orange</td>\n",
       "      <td>clothing</td>\n",
       "      <td>1</td>\n",
       "      <td>vivity comfortable woman s plunge bra buy oran...</td>\n",
       "      <td>Vivity Comfortable Women's Plunge Bra vivity c...</td>\n",
       "      <td>2</td>\n",
       "    </tr>\n",
       "  </tbody>\n",
       "</table>\n",
       "</div>"
      ],
      "text/plain": [
       "      Unnamed: 0                           product_name  \\\n",
       "1944        1944  Vivity Comfortable Women's Plunge Bra   \n",
       "\n",
       "                                  product_category_tree  \\\n",
       "1944  [\"Clothing >> Women's Clothing >> Lingerie, Sl...   \n",
       "\n",
       "                                            description   brand  \\\n",
       "1944  Vivity Comfortable Women's Plunge Bra - Buy Or...  Orange   \n",
       "\n",
       "     classification_category  main_category  \\\n",
       "1944                clothing              1   \n",
       "\n",
       "                                    cleaned_description  \\\n",
       "1944  vivity comfortable woman s plunge bra buy oran...   \n",
       "\n",
       "                                                 corpus  labels  \n",
       "1944  Vivity Comfortable Women's Plunge Bra vivity c...       2  "
      ]
     },
     "execution_count": 30,
     "metadata": {},
     "output_type": "execute_result"
    }
   ],
   "source": [
    "df.head(1)"
   ]
  },
  {
   "cell_type": "code",
   "execution_count": 31,
   "metadata": {
    "execution": {
     "iopub.execute_input": "2021-09-17T09:58:57.187556Z",
     "iopub.status.busy": "2021-09-17T09:58:57.186351Z",
     "iopub.status.idle": "2021-09-17T09:58:57.200458Z",
     "shell.execute_reply": "2021-09-17T09:58:57.199200Z",
     "shell.execute_reply.started": "2021-09-17T09:58:57.187487Z"
    }
   },
   "outputs": [],
   "source": [
    "# splitting train and validation data\n",
    "from sklearn.model_selection import train_test_split\n",
    "train, valid = train_test_split(df, train_size = 0.8, test_size = 0.2, random_state = 0)"
   ]
  },
  {
   "cell_type": "code",
   "execution_count": 32,
   "metadata": {
    "execution": {
     "iopub.execute_input": "2021-09-17T09:58:59.273386Z",
     "iopub.status.busy": "2021-09-17T09:58:59.272331Z",
     "iopub.status.idle": "2021-09-17T09:58:59.278939Z",
     "shell.execute_reply": "2021-09-17T09:58:59.277971Z",
     "shell.execute_reply.started": "2021-09-17T09:58:59.273352Z"
    }
   },
   "outputs": [],
   "source": [
    "train_X = train.corpus\n",
    "train_y = train.labels\n",
    "valid_X = valid.corpus\n",
    "valid_y = valid.labels"
   ]
  },
  {
   "cell_type": "code",
   "execution_count": 33,
   "metadata": {
    "execution": {
     "iopub.execute_input": "2021-09-17T09:59:04.840509Z",
     "iopub.status.busy": "2021-09-17T09:59:04.840218Z",
     "iopub.status.idle": "2021-09-17T09:59:08.883802Z",
     "shell.execute_reply": "2021-09-17T09:59:08.882797Z",
     "shell.execute_reply.started": "2021-09-17T09:59:04.840482Z"
    }
   },
   "outputs": [],
   "source": [
    "pipeline1 = Pipeline([('tfidf',TfidfVectorizer()),\n",
    "                     ('chi',  SelectKBest(chi2, k=100)),\n",
    "                     ('clf', RandomForestClassifier())])\n",
    "model1=pipeline1.fit(train_X,train_y)"
   ]
  },
  {
   "cell_type": "code",
   "execution_count": 34,
   "metadata": {
    "execution": {
     "iopub.execute_input": "2021-09-17T09:59:09.253106Z",
     "iopub.status.busy": "2021-09-17T09:59:09.252458Z",
     "iopub.status.idle": "2021-09-17T09:59:09.574284Z",
     "shell.execute_reply": "2021-09-17T09:59:09.573342Z",
     "shell.execute_reply.started": "2021-09-17T09:59:09.253072Z"
    }
   },
   "outputs": [],
   "source": [
    "pred = model1.predict(valid_X)"
   ]
  },
  {
   "cell_type": "code",
   "execution_count": 35,
   "metadata": {
    "execution": {
     "iopub.execute_input": "2021-09-17T09:59:12.125277Z",
     "iopub.status.busy": "2021-09-17T09:59:12.124324Z",
     "iopub.status.idle": "2021-09-17T09:59:12.132462Z",
     "shell.execute_reply": "2021-09-17T09:59:12.131578Z",
     "shell.execute_reply.started": "2021-09-17T09:59:12.125219Z"
    }
   },
   "outputs": [
    {
     "name": "stdout",
     "output_type": "stream",
     "text": [
      "0.868390470656595\n"
     ]
    }
   ],
   "source": [
    "print(accuracy_score(valid_y, pred))"
   ]
  },
  {
   "cell_type": "code",
   "execution_count": null,
   "metadata": {},
   "outputs": [],
   "source": []
  }
 ],
 "metadata": {
  "kernelspec": {
   "display_name": "Python 3",
   "language": "python",
   "name": "python3"
  },
  "language_info": {
   "codemirror_mode": {
    "name": "ipython",
    "version": 3
   },
   "file_extension": ".py",
   "mimetype": "text/x-python",
   "name": "python",
   "nbconvert_exporter": "python",
   "pygments_lexer": "ipython3",
   "version": "3.8.5"
  }
 },
 "nbformat": 4,
 "nbformat_minor": 4
}
